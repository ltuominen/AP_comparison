{
 "cells": [
  {
   "cell_type": "code",
   "execution_count": 5,
   "id": "1baee903-5244-4e05-82f0-0f88a90f9865",
   "metadata": {},
   "outputs": [],
   "source": [
    "# libraries\n",
    "import os\n",
    "import glob\n",
    "import numpy as np\n",
    "import pandas as pd\n",
    "import matplotlib.pyplot as plt"
   ]
  },
  {
   "cell_type": "code",
   "execution_count": null,
   "id": "6f370590-5a06-4f8b-b934-8fe2b8e798bd",
   "metadata": {},
   "outputs": [],
   "source": [
    "# affinites extracted in April 2025 from here:\n",
    "# https://pdsp.unc.edu/kidb2/kidb/web/"
   ]
  },
  {
   "cell_type": "code",
   "execution_count": 109,
   "id": "94da8577-b930-4b76-a4bd-5116d0ac571b",
   "metadata": {},
   "outputs": [],
   "source": [
    "# collect affinities \n",
    "base_path = os.path.dirname(os.getcwd())\n",
    "aff_dir = base_path + '/affinities/'\n",
    "aff_files = glob.glob('**/*.csv', root_dir=aff_dir, recursive=True)\n"
   ]
  },
  {
   "cell_type": "code",
   "execution_count": 110,
   "id": "4e4fa495-5558-463b-9464-5ba7100786f7",
   "metadata": {},
   "outputs": [],
   "source": [
    "# make a table\n",
    "rec = np.unique([os.path.basename(i).split('.')[0] for i in aff_files])\n",
    "affinities = pd.DataFrame({'Receptors':rec})"
   ]
  },
  {
   "cell_type": "code",
   "execution_count": 113,
   "id": "0b4f5bc3-1dd8-4d38-8c30-9a45a16fcc7a",
   "metadata": {},
   "outputs": [],
   "source": [
    "# Loop over antipsychotics, populate a dictionary with median Ki values and map it to the table\n",
    "\n",
    "antipsychotics = ['Olanzapine', 'Clozapine', 'Norclozapine', 'Risperidone', 'Amisulpride', 'Flupentixol']\n",
    "\n",
    "for antipsychotic in antipsychotics:\n",
    "    f1 = [i for i in aff_files if antipsychotic in i]\n",
    "    tmp = {i: 'NA' for i in res}\n",
    "\n",
    "    for r in f1:\n",
    "        rfile = aff_dir + r\n",
    "        df = pd.read_csv(rfile ,encoding='latin-1')\n",
    "        df = df.loc[df['Species']=='HUMAN']\n",
    "        Ki_clean = df['Ki (nM)'].dropna().astype('str') # some cleaning, for example: '> 10 0000' --> 10000.0\n",
    "        Ki_clean = Ki_clean.str.replace(r'[^\\d\\.]', '', regex=True).astype('float')\n",
    "        Ki = np.round(np.median(np.array(Ki_clean, dtype='float')),3) # median\n",
    "        rname = os.path.basename(r).split('.')[0]\n",
    "        tmp[rname] = Ki\n",
    "    \n",
    "    affinities[antipsychotic] = affinities['Receptors'].map(tmp)\n"
   ]
  },
  {
   "cell_type": "code",
   "execution_count": 116,
   "id": "794c9e4d-4efd-434c-b93d-0052d1df7aea",
   "metadata": {},
   "outputs": [],
   "source": [
    "affinities.to_csv(aff_dir + 'affinities_table.csv')"
   ]
  }
 ],
 "metadata": {
  "kernelspec": {
   "display_name": "Python 3 (ipykernel)",
   "language": "python",
   "name": "python3"
  },
  "language_info": {
   "codemirror_mode": {
    "name": "ipython",
    "version": 3
   },
   "file_extension": ".py",
   "mimetype": "text/x-python",
   "name": "python",
   "nbconvert_exporter": "python",
   "pygments_lexer": "ipython3",
   "version": "3.10.12"
  }
 },
 "nbformat": 4,
 "nbformat_minor": 5
}
