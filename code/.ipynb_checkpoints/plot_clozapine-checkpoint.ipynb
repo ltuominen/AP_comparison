{
 "cells": [
  {
   "cell_type": "code",
   "execution_count": null,
   "id": "063e8a91-f212-4974-bb04-a65e35e12f67",
   "metadata": {},
   "outputs": [],
   "source": [
    "from surfplot import Plot\n",
    "import pandas as pd \n",
    "import numpy as np\n",
    "import matplotlib.pyplot as plt\n",
    "import os\n",
    "from utils import get_annot_labels\n",
    "from utils import rois2maps\n",
    "from neuromaps.datasets import fetch_fsaverage "
   ]
  },
  {
   "cell_type": "code",
   "execution_count": null,
   "id": "c5feb4e8-c4b6-4e14-b40c-686534899cca",
   "metadata": {},
   "outputs": [],
   "source": [
    "base_path = os.path.dirname(os.getcwd())\n",
    "\n",
    "dat = pd.read_csv(base_path + '/data/CLZ44/stats/parcelwise_effectsize.csv')\n",
    "\n",
    "# make maps to plt\n",
    "lh_dat = dat.loc[dat['parcel'].str.contains('lh_'),:]\n",
    "#lh_dat.loc[:,'hedges_g'] = lh_dat['hedges_g'] + 0.001 # weird \n",
    "rh_dat = dat.loc[dat['parcel'].str.contains('rh_'),:]"
   ]
  },
  {
   "cell_type": "code",
   "execution_count": null,
   "id": "273a9a82-3fee-4182-9930-8df9e91e066d",
   "metadata": {},
   "outputs": [],
   "source": [
    "# get labels \n",
    "lh_labels = get_annot_labels('lh.aparc.annot')    \n",
    "rh_labels = get_annot_labels('rh.aparc.annot')"
   ]
  },
  {
   "cell_type": "code",
   "execution_count": null,
   "id": "55894d1e-1d20-44a4-9ef3-88d1c6918816",
   "metadata": {},
   "outputs": [],
   "source": [
    "pmap = rois2maps(lh_dat, rh_dat, 'hedges_g', lh_labels, rh_labels)\n"
   ]
  },
  {
   "cell_type": "code",
   "execution_count": null,
   "id": "eb85450e-6284-435f-8ea6-db0eaf3474d1",
   "metadata": {},
   "outputs": [],
   "source": [
    "# plot \n",
    "surface = fetch_fsaverage(density='164k')\n",
    "lh, rh = surface['inflated']\n",
    "dk = {'left': np.array(lh_labels), 'right': np.array(rh_labels)} # outlines \n",
    "\n",
    "p = Plot(lh, rh, views=['lateral', 'medial'], zoom=1.2)\n",
    "p.add_layer(pmap, cmap='Blues_r', cbar_label=\"Hedges' g\")\n",
    "p.add_layer(dk, as_outline=True, cbar=False)\n",
    "  \n",
    "pic = p.build()\n",
    "\n",
    "# fix legend \n",
    "cbar_ax = pic.axes[-1]\n",
    "cbar_ax.set_ylabel('')\n",
    "cbar_ax.set_title(\"Hedges' g\", pad=10);\n",
    "plt.title('Clozapine')\n",
    "\n",
    "pic.savefig(os.path.join(base_path + '/figs/Clozapine_parcelwise_hedges_g.jpg'), dpi=300, transparent=True)\n"
   ]
  },
  {
   "cell_type": "code",
   "execution_count": null,
   "id": "33e55092-4eb7-4e3f-8f8c-70bfb8aafee9",
   "metadata": {},
   "outputs": [],
   "source": []
  }
 ],
 "metadata": {
  "kernelspec": {
   "display_name": "Python 3 (ipykernel)",
   "language": "python",
   "name": "python3"
  },
  "language_info": {
   "codemirror_mode": {
    "name": "ipython",
    "version": 3
   },
   "file_extension": ".py",
   "mimetype": "text/x-python",
   "name": "python",
   "nbconvert_exporter": "python",
   "pygments_lexer": "ipython3",
   "version": "3.10.12"
  }
 },
 "nbformat": 4,
 "nbformat_minor": 5
}
