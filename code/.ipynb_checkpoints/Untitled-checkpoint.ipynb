{
 "cells": [
  {
   "cell_type": "code",
   "execution_count": 7,
   "id": "f40dced0-ee46-49c7-b2f1-49c93d1e80b8",
   "metadata": {},
   "outputs": [],
   "source": [
    "from neuromaps import datasets\n"
   ]
  },
  {
   "cell_type": "code",
   "execution_count": 12,
   "id": "0b7bf399-8226-40f7-be16-b35ca2c0b0a2",
   "metadata": {},
   "outputs": [],
   "source": [
    "FEOBV = datasets.fetch_annotation(source='tuominen')"
   ]
  },
  {
   "cell_type": "code",
   "execution_count": 13,
   "id": "0c8fbc22-47e8-4560-a138-abc537396c9b",
   "metadata": {},
   "outputs": [
    {
     "data": {
      "text/plain": [
       "'/Users/laurituominen/neuromaps-data/annotations/tuominen/feobv/MNI152/source-tuominen_desc-feobv_space-MNI152_res-2mm_feature.nii.gz'"
      ]
     },
     "execution_count": 13,
     "metadata": {},
     "output_type": "execute_result"
    }
   ],
   "source": [
    "FEOBV\n"
   ]
  },
  {
   "cell_type": "code",
   "execution_count": 11,
   "id": "8bd6ae47-bea2-48df-bc7b-b28828ddbb2c",
   "metadata": {},
   "outputs": [
    {
     "data": {
      "text/plain": [
       "\u001b[0;31mSignature:\u001b[0m\n",
       "\u001b[0mfetch_annotation\u001b[0m\u001b[0;34m(\u001b[0m\u001b[0;34m\u001b[0m\n",
       "\u001b[0;34m\u001b[0m    \u001b[0;34m*\u001b[0m\u001b[0;34m,\u001b[0m\u001b[0;34m\u001b[0m\n",
       "\u001b[0;34m\u001b[0m    \u001b[0msource\u001b[0m\u001b[0;34m=\u001b[0m\u001b[0;32mNone\u001b[0m\u001b[0;34m,\u001b[0m\u001b[0;34m\u001b[0m\n",
       "\u001b[0;34m\u001b[0m    \u001b[0mdesc\u001b[0m\u001b[0;34m=\u001b[0m\u001b[0;32mNone\u001b[0m\u001b[0;34m,\u001b[0m\u001b[0;34m\u001b[0m\n",
       "\u001b[0;34m\u001b[0m    \u001b[0mspace\u001b[0m\u001b[0;34m=\u001b[0m\u001b[0;32mNone\u001b[0m\u001b[0;34m,\u001b[0m\u001b[0;34m\u001b[0m\n",
       "\u001b[0;34m\u001b[0m    \u001b[0mden\u001b[0m\u001b[0;34m=\u001b[0m\u001b[0;32mNone\u001b[0m\u001b[0;34m,\u001b[0m\u001b[0;34m\u001b[0m\n",
       "\u001b[0;34m\u001b[0m    \u001b[0mres\u001b[0m\u001b[0;34m=\u001b[0m\u001b[0;32mNone\u001b[0m\u001b[0;34m,\u001b[0m\u001b[0;34m\u001b[0m\n",
       "\u001b[0;34m\u001b[0m    \u001b[0mhemi\u001b[0m\u001b[0;34m=\u001b[0m\u001b[0;32mNone\u001b[0m\u001b[0;34m,\u001b[0m\u001b[0;34m\u001b[0m\n",
       "\u001b[0;34m\u001b[0m    \u001b[0mtags\u001b[0m\u001b[0;34m=\u001b[0m\u001b[0;32mNone\u001b[0m\u001b[0;34m,\u001b[0m\u001b[0;34m\u001b[0m\n",
       "\u001b[0;34m\u001b[0m    \u001b[0mformat\u001b[0m\u001b[0;34m=\u001b[0m\u001b[0;32mNone\u001b[0m\u001b[0;34m,\u001b[0m\u001b[0;34m\u001b[0m\n",
       "\u001b[0;34m\u001b[0m    \u001b[0mreturn_single\u001b[0m\u001b[0;34m=\u001b[0m\u001b[0;32mTrue\u001b[0m\u001b[0;34m,\u001b[0m\u001b[0;34m\u001b[0m\n",
       "\u001b[0;34m\u001b[0m    \u001b[0mtoken\u001b[0m\u001b[0;34m=\u001b[0m\u001b[0;32mNone\u001b[0m\u001b[0;34m,\u001b[0m\u001b[0;34m\u001b[0m\n",
       "\u001b[0;34m\u001b[0m    \u001b[0mdata_dir\u001b[0m\u001b[0;34m=\u001b[0m\u001b[0;32mNone\u001b[0m\u001b[0;34m,\u001b[0m\u001b[0;34m\u001b[0m\n",
       "\u001b[0;34m\u001b[0m    \u001b[0mverbose\u001b[0m\u001b[0;34m=\u001b[0m\u001b[0;36m1\u001b[0m\u001b[0;34m,\u001b[0m\u001b[0;34m\u001b[0m\n",
       "\u001b[0;34m\u001b[0m\u001b[0;34m)\u001b[0m\u001b[0;34m\u001b[0m\u001b[0;34m\u001b[0m\u001b[0m\n",
       "\u001b[0;31mDocstring:\u001b[0m\n",
       "Download files for brain annotations matching requested variables.\n",
       "\n",
       "Parameters\n",
       "----------\n",
       "source, desc, space, den, res, hemi, tags, format : str or list-of-str\n",
       "    Values on which to match annotations. If not specified annotations with\n",
       "    any value for the relevant key will be matched. Default: None\n",
       "return_single : bool, optional\n",
       "    If only one annotation is found matching input parameters return the\n",
       "    list of filepaths instead of the standard dictionary. Default: True\n",
       "token : str, optional\n",
       "    OSF personal access token for accessing restricted annotations. Will\n",
       "    also check the environmental variable 'NEUROMAPS_OSF_TOKEN' if not\n",
       "    provided; if that is not set no token will be provided and restricted\n",
       "    annotations will be inaccessible. Default: None\n",
       "data_dir : str, optional\n",
       "    Path to use as data directory. If not specified, will check for\n",
       "    environmental variable 'NEUROMAPS_DATA'; if that is not set, will\n",
       "    use `~/neuromaps-data` instead. Default: None\n",
       "verbose : int, optional\n",
       "    Modifies verbosity of download, where higher numbers mean more updates.\n",
       "    Default: 1\n",
       "\n",
       "Returns\n",
       "-------\n",
       "data : dict\n",
       "    Dictionary of downloaded annotations where dictionary keys are tuples\n",
       "    (source, desc, space, den/res) and values are lists of corresponding\n",
       "    filenames\n",
       "\u001b[0;31mFile:\u001b[0m      ~/anaconda3/lib/python3.10/site-packages/neuromaps/datasets/annotations.py\n",
       "\u001b[0;31mType:\u001b[0m      function"
      ]
     },
     "metadata": {},
     "output_type": "display_data"
    }
   ],
   "source": [
    "?fetch_annotation"
   ]
  },
  {
   "cell_type": "code",
   "execution_count": 10,
   "id": "2a565831-50c7-43a5-a461-62ff856dd719",
   "metadata": {},
   "outputs": [
    {
     "data": {
      "text/plain": [
       "[('abagen', 'genepc1', 'fsaverage', '10k'),\n",
       " ('aghourian2017', 'feobv', 'MNI152', '1mm'),\n",
       " ('alarkurtti2015', 'raclopride', 'MNI152', '3mm'),\n",
       " ('bedard2019', 'feobv', 'MNI152', '1mm'),\n",
       " ('beliveau2017', 'az10419369', 'MNI152', '1mm'),\n",
       " ('beliveau2017', 'az10419369', 'fsaverage', '164k'),\n",
       " ('beliveau2017', 'cimbi36', 'MNI152', '1mm'),\n",
       " ('beliveau2017', 'cimbi36', 'fsaverage', '164k'),\n",
       " ('beliveau2017', 'cumi101', 'MNI152', '1mm'),\n",
       " ('beliveau2017', 'cumi101', 'fsaverage', '164k'),\n",
       " ('beliveau2017', 'dasb', 'MNI152', '1mm'),\n",
       " ('beliveau2017', 'dasb', 'fsaverage', '164k'),\n",
       " ('beliveau2017', 'sb207145', 'MNI152', '1mm'),\n",
       " ('beliveau2017', 'sb207145', 'fsaverage', '164k'),\n",
       " ('ding2010', 'mrb', 'MNI152', '1mm'),\n",
       " ('dubois2015', 'abp688', 'MNI152', '1mm'),\n",
       " ('dukart2018', 'flumazenil', 'MNI152', '3mm'),\n",
       " ('dukart2018', 'fpcit', 'MNI152', '3mm'),\n",
       " ('fazio2016', 'madam', 'MNI152', '3mm'),\n",
       " ('finnema2016', 'ucbj', 'MNI152', '1mm'),\n",
       " ('gallezot2010', 'p943', 'MNI152', '1mm'),\n",
       " ('gallezot2017', 'gsk189254', 'MNI152', '1mm'),\n",
       " ('hcps1200', 'megalpha', 'fsLR', '4k'),\n",
       " ('hcps1200', 'megbeta', 'fsLR', '4k'),\n",
       " ('hcps1200', 'megdelta', 'fsLR', '4k'),\n",
       " ('hcps1200', 'meggamma1', 'fsLR', '4k'),\n",
       " ('hcps1200', 'meggamma2', 'fsLR', '4k'),\n",
       " ('hcps1200', 'megtheta', 'fsLR', '4k'),\n",
       " ('hcps1200', 'megtimescale', 'fsLR', '4k'),\n",
       " ('hcps1200', 'myelinmap', 'fsLR', '32k'),\n",
       " ('hcps1200', 'thickness', 'fsLR', '32k'),\n",
       " ('hesse2017', 'methylreboxetine', 'MNI152', '3mm'),\n",
       " ('hill2010', 'devexp', 'fsLR', '164k'),\n",
       " ('hill2010', 'evoexp', 'fsLR', '164k'),\n",
       " ('hillmer2016', 'flubatine', 'MNI152', '1mm'),\n",
       " ('jaworska2020', 'fallypride', 'MNI152', '1mm'),\n",
       " ('kaller2017', 'sch23390', 'MNI152', '3mm'),\n",
       " ('kantonen2020', 'carfentanil', 'MNI152', '3mm'),\n",
       " ('laurikainen2018', 'fmpepd2', 'MNI152', '1mm'),\n",
       " ('margulies2016', 'fcgradient01', 'fsLR', '32k'),\n",
       " ('margulies2016', 'fcgradient02', 'fsLR', '32k'),\n",
       " ('margulies2016', 'fcgradient03', 'fsLR', '32k'),\n",
       " ('margulies2016', 'fcgradient04', 'fsLR', '32k'),\n",
       " ('margulies2016', 'fcgradient05', 'fsLR', '32k'),\n",
       " ('margulies2016', 'fcgradient06', 'fsLR', '32k'),\n",
       " ('margulies2016', 'fcgradient07', 'fsLR', '32k'),\n",
       " ('margulies2016', 'fcgradient08', 'fsLR', '32k'),\n",
       " ('margulies2016', 'fcgradient09', 'fsLR', '32k'),\n",
       " ('margulies2016', 'fcgradient10', 'fsLR', '32k'),\n",
       " ('mueller2013', 'intersubjvar', 'fsLR', '164k'),\n",
       " ('naganawa2020', 'lsn3172176', 'MNI152', '1mm'),\n",
       " ('neurosynth', 'cogpc1', 'MNI152', '2mm'),\n",
       " ('norgaard2021', 'flumazenil', 'MNI152', '1mm'),\n",
       " ('norgaard2021', 'flumazenil', 'fsaverage', '164k'),\n",
       " ('normandin2015', 'omar', 'MNI152', '1mm'),\n",
       " ('radnakrishnan2018', 'gsk215083', 'MNI152', '1mm'),\n",
       " ('raichle', 'cbf', 'fsLR', '164k'),\n",
       " ('raichle', 'cbv', 'fsLR', '164k'),\n",
       " ('raichle', 'cmr02', 'fsLR', '164k'),\n",
       " ('raichle', 'cmrglc', 'fsLR', '164k'),\n",
       " ('reardon2018', 'scalinghcp', 'civet', '41k'),\n",
       " ('reardon2018', 'scalingnih', 'civet', '41k'),\n",
       " ('reardon2018', 'scalingpnc', 'civet', '41k'),\n",
       " ('rosaneto', 'abp688', 'MNI152', '1mm'),\n",
       " ('sandiego2015', 'flb457', 'MNI152', '1mm'),\n",
       " ('sasaki2012', 'fepe2i', 'MNI152', '1mm'),\n",
       " ('satterthwaite2014', 'meancbf', 'MNI152', '1mm'),\n",
       " ('savli2012', 'altanserin', 'MNI152', '3mm'),\n",
       " ('savli2012', 'dasb', 'MNI152', '3mm'),\n",
       " ('savli2012', 'p943', 'MNI152', '3mm'),\n",
       " ('savli2012', 'way100635', 'MNI152', '3mm'),\n",
       " ('smart2019', 'abp688', 'MNI152', '1mm'),\n",
       " ('smith2017', 'flb457', 'MNI152', '1mm'),\n",
       " ('sydnor2021', 'SAaxis', 'fsLR', '32k'),\n",
       " ('tuominen', 'feobv', 'MNI152', '2mm'),\n",
       " ('turtonen2020', 'carfentanil', 'MNI152', '1mm'),\n",
       " ('vijay2018', 'ly2795050', 'MNI152', '2mm'),\n",
       " ('xu2020', 'FChomology', 'fsLR', '32k'),\n",
       " ('xu2020', 'evoexp', 'fsLR', '32k')]"
      ]
     },
     "execution_count": 10,
     "metadata": {},
     "output_type": "execute_result"
    }
   ],
   "source": [
    "annotations = datasets.available_annotations()\n",
    "annotations"
   ]
  },
  {
   "cell_type": "code",
   "execution_count": null,
   "id": "b5686d1f-e872-4769-8332-4b338142f5fa",
   "metadata": {},
   "outputs": [],
   "source": []
  }
 ],
 "metadata": {
  "kernelspec": {
   "display_name": "Python 3 (ipykernel)",
   "language": "python",
   "name": "python3"
  },
  "language_info": {
   "codemirror_mode": {
    "name": "ipython",
    "version": 3
   },
   "file_extension": ".py",
   "mimetype": "text/x-python",
   "name": "python",
   "nbconvert_exporter": "python",
   "pygments_lexer": "ipython3",
   "version": "3.10.12"
  }
 },
 "nbformat": 4,
 "nbformat_minor": 5
}
