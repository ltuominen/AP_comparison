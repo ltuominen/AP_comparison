{
 "cells": [
  {
   "cell_type": "code",
   "execution_count": 212,
   "id": "8fa84adb-631e-4268-aa0f-903318bf37c6",
   "metadata": {},
   "outputs": [],
   "source": [
    "import pandas as pd\n",
    "import os \n",
    "import numpy as np"
   ]
  },
  {
   "cell_type": "code",
   "execution_count": 213,
   "id": "20a113db-5338-42d9-b4bd-1c5578ea8db5",
   "metadata": {},
   "outputs": [],
   "source": [
    "\n",
    "parcels = ['bankssts_thickness','caudalanteriorcingulate_thickness',\n",
    "       'caudalmiddlefrontal_thickness', 'cuneus_thickness',\n",
    "       'entorhinal_thickness', 'fusiform_thickness',\n",
    "       'inferiorparietal_thickness', 'inferiortemporal_thickness',\n",
    "       'isthmuscingulate_thickness', 'lateraloccipital_thickness',\n",
    "       'lateralorbitofrontal_thickness', 'lingual_thickness',\n",
    "       'medialorbitofrontal_thickness', 'middletemporal_thickness',\n",
    "       'parahippocampal_thickness', 'paracentral_thickness',\n",
    "       'parsopercularis_thickness', 'parsorbitalis_thickness',\n",
    "       'parstriangularis_thickness', 'pericalcarine_thickness',\n",
    "       'postcentral_thickness', 'posteriorcingulate_thickness',\n",
    "       'precentral_thickness', 'precuneus_thickness',\n",
    "       'rostralanteriorcingulate_thickness',\n",
    "       'rostralmiddlefrontal_thickness', 'superiorfrontal_thickness',\n",
    "       'superiorparietal_thickness', 'superiortemporal_thickness',\n",
    "       'supramarginal_thickness', 'frontalpole_thickness',\n",
    "       'temporalpole_thickness', 'transversetemporal_thickness',\n",
    "       'insula_thickness']\n",
    "\n",
    "def parse_thickness(filename, idcolumn, hemi, parcels):\n",
    "    df = pd.read_csv(filename, sep='\\t')\n",
    "    df['STUDYID'] = df[idcolumn].map(lambda name: name.split(\"_\")[2]) \n",
    "    df['timepoint'] = df[idcolumn].map(lambda name: name.split(\"_\")[3].split(\".\")[0]) \n",
    "    df['site'] = df[idcolumn].map(lambda name: name.split(\"_\")[1]) \n",
    "    df = df.sort_values([\"STUDYID\", \"timepoint\"]) \n",
    "    cols = [hemi + '_' + p for p in parcels]\n",
    "    df[[col + \"_delta\" for col in cols]] = df.groupby(\"STUDYID\")[cols].diff() # calculate the difference: timepoint 2 - timepoint 1\n",
    "    df = df[df['timepoint'] == '02'] # get rid of timepoint 01 \n",
    "    df = df.loc[:, ['STUDYID', 'site'] + list(df.columns[df.columns.str.contains(\"delta\")])] # retain only columns with delta \n",
    "    return df"
   ]
  },
  {
   "cell_type": "code",
   "execution_count": 214,
   "id": "d7c9ba41-6733-4c1a-b279-642744f4bf1f",
   "metadata": {},
   "outputs": [],
   "source": [
    "# load\n",
    "base = os.path.dirname(os.getcwd())\n",
    "base\n",
    "\n",
    "lh_file = base + '/data/lh_aparc_stats.txt'\n",
    "rh_file = base + '/data/rh_aparc_stats.txt'\n",
    "demo_file =  base + '/data/STOPPD_final_clinical.csv'\n"
   ]
  },
  {
   "cell_type": "code",
   "execution_count": 215,
   "id": "9b7b48a1-4b95-4de6-bea8-2a0db451853a",
   "metadata": {},
   "outputs": [],
   "source": [
    "# parse and calculate delta \n",
    "lh = parse_thickness(lh_file, \"lh.aparc.thickness\", 'lh', parcels)\n",
    "\n",
    "rh = parse_thickness(rh_file, \"rh.aparc.thickness\", 'rh', parcels)"
   ]
  },
  {
   "cell_type": "code",
   "execution_count": 216,
   "id": "19b08a13-6bd2-467d-a63a-a502e0124e21",
   "metadata": {},
   "outputs": [],
   "source": [
    "# merge\n",
    "df = pd.merge(lh, rh, on='STUDYID')\n",
    "df = df.astype({'STUDYID': 'int64'})\n",
    "demo = demo.astype({'STUDYID': 'int64'})\n",
    "df = pd.merge(demo, df, on='STUDYID')\n"
   ]
  },
  {
   "cell_type": "code",
   "execution_count": 217,
   "id": "b8797876-97e9-43ce-b1de-60ec93dd99e4",
   "metadata": {},
   "outputs": [],
   "source": [
    "df.to_csv(base + '/data/STOPPD_merged.csv')"
   ]
  }
 ],
 "metadata": {
  "kernelspec": {
   "display_name": "Python 3 (ipykernel)",
   "language": "python",
   "name": "python3"
  },
  "language_info": {
   "codemirror_mode": {
    "name": "ipython",
    "version": 3
   },
   "file_extension": ".py",
   "mimetype": "text/x-python",
   "name": "python",
   "nbconvert_exporter": "python",
   "pygments_lexer": "ipython3",
   "version": "3.10.12"
  }
 },
 "nbformat": 4,
 "nbformat_minor": 5
}
